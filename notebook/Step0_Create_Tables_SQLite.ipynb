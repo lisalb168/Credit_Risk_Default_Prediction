{
 "cells": [
  {
   "cell_type": "markdown",
   "metadata": {},
   "source": [
    "# Table of Contents\n",
    "\n",
    "* [Import all csv files into SQLite database](#Import-all-csv-files-into-SQLite-database)\n",
    "* [Save the files permanently to the SQLite database](#Save-the-files-permanently-to-the-SQLite-database)"
   ]
  },
  {
   "cell_type": "markdown",
   "metadata": {},
   "source": [
    "## Import all csv files into SQLite database"
   ]
  },
  {
   "cell_type": "code",
   "execution_count": 1,
   "metadata": {},
   "outputs": [],
   "source": [
    "import pandas as pd\n",
    "import numpy as np\n",
    "from numpy.random import seed\n",
    "import matplotlib.pyplot as plt\n",
    "%matplotlib inline  \n",
    "import statistics\n",
    "from scipy import stats\n",
    "from scipy.stats import t\n",
    "from scipy.stats import norm\n",
    "import seaborn as sns"
   ]
  },
  {
   "cell_type": "code",
   "execution_count": 2,
   "metadata": {},
   "outputs": [],
   "source": [
    "# tutorial on creating database using sqlite3\n",
    "# https://www.sqlitetutorial.net/sqlite-python/\n",
    "# https://stackoverflow.com/questions/2887878/importing-a-csv-file-into-a-sqlite3-database-table-using-python\n",
    "# to drop a table in database, example: cur.execute('DROP TABLE IF EXISTS app_sql')\n",
    "import sqlite3\n",
    "from sqlite3 import Error\n",
    "import csv"
   ]
  },
  {
   "cell_type": "code",
   "execution_count": 3,
   "metadata": {},
   "outputs": [
    {
     "name": "stdout",
     "output_type": "stream",
     "text": [
      "2.6.0\n"
     ]
    }
   ],
   "source": [
    "def create_connection(db_file):\n",
    "    \"\"\" create a database connection to a SQLite database \"\"\"\n",
    "    conn = None\n",
    "    try:\n",
    "        conn = sqlite3.connect(db_file)\n",
    "        print(sqlite3.version)\n",
    "    except Error as e:\n",
    "        print(e)\n",
    "    finally:\n",
    "        if conn:\n",
    "            conn.close()\n",
    " \n",
    "#if __name__ == '__main__':\n",
    "create_connection(r\"pythonsqlite.db\")"
   ]
  },
  {
   "cell_type": "code",
   "execution_count": 4,
   "metadata": {},
   "outputs": [],
   "source": [
    "# remember to close the connection at the end of the code\n",
    "con = sqlite3.connect(r\"pythonsqlite.db\")\n",
    "cur = con.cursor()"
   ]
  },
  {
   "cell_type": "code",
   "execution_count": 5,
   "metadata": {},
   "outputs": [],
   "source": [
    "# define a function that takes in dataframe name df and output the string combining variable name and type to \n",
    "# feed in the create table statement in sql\n",
    "def create_table(df, tablename, cur): \n",
    "    \"\"\" create a table with proper variable types in the sqlite database \"\"\"\n",
    "    keep_dtype = ''\n",
    "    type_list=[]\n",
    "    for cols in df.columns:\n",
    "        if str(df[cols].dtype) == 'int64':\n",
    "            keep_dtype = 'INTEGER'\n",
    "        elif str(df[cols].dtype) == 'float64':\n",
    "            keep_dtype = 'REAL'\n",
    "        elif str(df[cols].dtype) == 'object':\n",
    "            keep_dtype = 'TEXT'\n",
    "        else:\n",
    "            keep_dtype = str(df[cols].dtype)\n",
    "            \n",
    "        type_list.append(cols + ' ' + str(keep_dtype))\n",
    "\n",
    "    createtbl_string = \"CREATE TABLE {} ({});\".format(tablename, ', '.join(type_list))\n",
    "    \n",
    "    print(createtbl_string)\n",
    "    try:\n",
    "        cur.execute(createtbl_string)\n",
    "        return 'Table {} is created successfully!'.format(tablename)\n",
    "    except:\n",
    "        return 'Create Table {} Failed!'.format(tablename)\n"
   ]
  },
  {
   "cell_type": "code",
   "execution_count": 6,
   "metadata": {},
   "outputs": [],
   "source": [
    "def insert_values(df, tablename, filename, cur):\n",
    "    \"\"\" insert values into a table in sqlite database \"\"\"\n",
    "    insert_string = 'INSERT INTO {} VALUES ({});'.format(tablename, ','.join(list(\"?\"*len(df.columns))))\n",
    "    \n",
    "    with open('{}.csv'.format(filename),'r', newline='') as fin: # `with` statement available in 2.5+\n",
    "        filereader = csv.reader(fin) \n",
    "        next(filereader) # skip header\n",
    "        for row in filereader:\n",
    "            cur.execute(insert_string, row)"
   ]
  },
  {
   "cell_type": "code",
   "execution_count": 7,
   "metadata": {},
   "outputs": [],
   "source": [
    "# read in all the data files \n",
    "app = pd.read_csv('/Users/lisalb168/Desktop/Springboard materials/home-credit-default-risk/data/application_train.csv')\n",
    "prev = pd.read_csv('/Users/lisalb168/Desktop/Springboard materials/home-credit-default-risk/data/previous_application.csv')\n",
    "bureau = pd.read_csv('/Users/lisalb168/Desktop/Springboard materials/home-credit-default-risk/data/bureau.csv')\n",
    "bureau_bal = pd.read_csv('/Users/lisalb168/Desktop/Springboard materials/home-credit-default-risk/data/bureau_balance.csv')\n",
    "card_bal = pd.read_csv('/Users/lisalb168/Desktop/Springboard materials/home-credit-default-risk/data/credit_card_balance.csv')\n",
    "inst_pay = pd.read_csv('/Users/lisalb168/Desktop/Springboard materials/home-credit-default-risk/data/installments_payments.csv')\n",
    "pos_bal = pd.read_csv('/Users/lisalb168/Desktop/Springboard materials/home-credit-default-risk/data/POS_CASH_balance.csv')"
   ]
  },
  {
   "cell_type": "code",
   "execution_count": 8,
   "metadata": {},
   "outputs": [
    {
     "name": "stdout",
     "output_type": "stream",
     "text": [
      "CREATE TABLE app_sql (SK_ID_CURR INTEGER, TARGET INTEGER, NAME_CONTRACT_TYPE TEXT, CODE_GENDER TEXT, FLAG_OWN_CAR TEXT, FLAG_OWN_REALTY TEXT, CNT_CHILDREN INTEGER, AMT_INCOME_TOTAL REAL, AMT_CREDIT REAL, AMT_ANNUITY REAL, AMT_GOODS_PRICE REAL, NAME_TYPE_SUITE TEXT, NAME_INCOME_TYPE TEXT, NAME_EDUCATION_TYPE TEXT, NAME_FAMILY_STATUS TEXT, NAME_HOUSING_TYPE TEXT, REGION_POPULATION_RELATIVE REAL, DAYS_BIRTH INTEGER, DAYS_EMPLOYED INTEGER, DAYS_REGISTRATION REAL, DAYS_ID_PUBLISH INTEGER, OWN_CAR_AGE REAL, FLAG_MOBIL INTEGER, FLAG_EMP_PHONE INTEGER, FLAG_WORK_PHONE INTEGER, FLAG_CONT_MOBILE INTEGER, FLAG_PHONE INTEGER, FLAG_EMAIL INTEGER, OCCUPATION_TYPE TEXT, CNT_FAM_MEMBERS REAL, REGION_RATING_CLIENT INTEGER, REGION_RATING_CLIENT_W_CITY INTEGER, WEEKDAY_APPR_PROCESS_START TEXT, HOUR_APPR_PROCESS_START INTEGER, REG_REGION_NOT_LIVE_REGION INTEGER, REG_REGION_NOT_WORK_REGION INTEGER, LIVE_REGION_NOT_WORK_REGION INTEGER, REG_CITY_NOT_LIVE_CITY INTEGER, REG_CITY_NOT_WORK_CITY INTEGER, LIVE_CITY_NOT_WORK_CITY INTEGER, ORGANIZATION_TYPE TEXT, EXT_SOURCE_1 REAL, EXT_SOURCE_2 REAL, EXT_SOURCE_3 REAL, APARTMENTS_AVG REAL, BASEMENTAREA_AVG REAL, YEARS_BEGINEXPLUATATION_AVG REAL, YEARS_BUILD_AVG REAL, COMMONAREA_AVG REAL, ELEVATORS_AVG REAL, ENTRANCES_AVG REAL, FLOORSMAX_AVG REAL, FLOORSMIN_AVG REAL, LANDAREA_AVG REAL, LIVINGAPARTMENTS_AVG REAL, LIVINGAREA_AVG REAL, NONLIVINGAPARTMENTS_AVG REAL, NONLIVINGAREA_AVG REAL, APARTMENTS_MODE REAL, BASEMENTAREA_MODE REAL, YEARS_BEGINEXPLUATATION_MODE REAL, YEARS_BUILD_MODE REAL, COMMONAREA_MODE REAL, ELEVATORS_MODE REAL, ENTRANCES_MODE REAL, FLOORSMAX_MODE REAL, FLOORSMIN_MODE REAL, LANDAREA_MODE REAL, LIVINGAPARTMENTS_MODE REAL, LIVINGAREA_MODE REAL, NONLIVINGAPARTMENTS_MODE REAL, NONLIVINGAREA_MODE REAL, APARTMENTS_MEDI REAL, BASEMENTAREA_MEDI REAL, YEARS_BEGINEXPLUATATION_MEDI REAL, YEARS_BUILD_MEDI REAL, COMMONAREA_MEDI REAL, ELEVATORS_MEDI REAL, ENTRANCES_MEDI REAL, FLOORSMAX_MEDI REAL, FLOORSMIN_MEDI REAL, LANDAREA_MEDI REAL, LIVINGAPARTMENTS_MEDI REAL, LIVINGAREA_MEDI REAL, NONLIVINGAPARTMENTS_MEDI REAL, NONLIVINGAREA_MEDI REAL, FONDKAPREMONT_MODE TEXT, HOUSETYPE_MODE TEXT, TOTALAREA_MODE REAL, WALLSMATERIAL_MODE TEXT, EMERGENCYSTATE_MODE TEXT, OBS_30_CNT_SOCIAL_CIRCLE REAL, DEF_30_CNT_SOCIAL_CIRCLE REAL, OBS_60_CNT_SOCIAL_CIRCLE REAL, DEF_60_CNT_SOCIAL_CIRCLE REAL, DAYS_LAST_PHONE_CHANGE REAL, FLAG_DOCUMENT_2 INTEGER, FLAG_DOCUMENT_3 INTEGER, FLAG_DOCUMENT_4 INTEGER, FLAG_DOCUMENT_5 INTEGER, FLAG_DOCUMENT_6 INTEGER, FLAG_DOCUMENT_7 INTEGER, FLAG_DOCUMENT_8 INTEGER, FLAG_DOCUMENT_9 INTEGER, FLAG_DOCUMENT_10 INTEGER, FLAG_DOCUMENT_11 INTEGER, FLAG_DOCUMENT_12 INTEGER, FLAG_DOCUMENT_13 INTEGER, FLAG_DOCUMENT_14 INTEGER, FLAG_DOCUMENT_15 INTEGER, FLAG_DOCUMENT_16 INTEGER, FLAG_DOCUMENT_17 INTEGER, FLAG_DOCUMENT_18 INTEGER, FLAG_DOCUMENT_19 INTEGER, FLAG_DOCUMENT_20 INTEGER, FLAG_DOCUMENT_21 INTEGER, AMT_REQ_CREDIT_BUREAU_HOUR REAL, AMT_REQ_CREDIT_BUREAU_DAY REAL, AMT_REQ_CREDIT_BUREAU_WEEK REAL, AMT_REQ_CREDIT_BUREAU_MON REAL, AMT_REQ_CREDIT_BUREAU_QRT REAL, AMT_REQ_CREDIT_BUREAU_YEAR REAL);\n",
      "CREATE TABLE prev_sql (SK_ID_PREV INTEGER, SK_ID_CURR INTEGER, NAME_CONTRACT_TYPE TEXT, AMT_ANNUITY REAL, AMT_APPLICATION REAL, AMT_CREDIT REAL, AMT_DOWN_PAYMENT REAL, AMT_GOODS_PRICE REAL, WEEKDAY_APPR_PROCESS_START TEXT, HOUR_APPR_PROCESS_START INTEGER, FLAG_LAST_APPL_PER_CONTRACT TEXT, NFLAG_LAST_APPL_IN_DAY INTEGER, RATE_DOWN_PAYMENT REAL, RATE_INTEREST_PRIMARY REAL, RATE_INTEREST_PRIVILEGED REAL, NAME_CASH_LOAN_PURPOSE TEXT, NAME_CONTRACT_STATUS TEXT, DAYS_DECISION INTEGER, NAME_PAYMENT_TYPE TEXT, CODE_REJECT_REASON TEXT, NAME_TYPE_SUITE TEXT, NAME_CLIENT_TYPE TEXT, NAME_GOODS_CATEGORY TEXT, NAME_PORTFOLIO TEXT, NAME_PRODUCT_TYPE TEXT, CHANNEL_TYPE TEXT, SELLERPLACE_AREA INTEGER, NAME_SELLER_INDUSTRY TEXT, CNT_PAYMENT REAL, NAME_YIELD_GROUP TEXT, PRODUCT_COMBINATION TEXT, DAYS_FIRST_DRAWING REAL, DAYS_FIRST_DUE REAL, DAYS_LAST_DUE_1ST_VERSION REAL, DAYS_LAST_DUE REAL, DAYS_TERMINATION REAL, NFLAG_INSURED_ON_APPROVAL REAL);\n",
      "CREATE TABLE bureau_sql (SK_ID_CURR INTEGER, SK_ID_BUREAU INTEGER, CREDIT_ACTIVE TEXT, CREDIT_CURRENCY TEXT, DAYS_CREDIT INTEGER, CREDIT_DAY_OVERDUE INTEGER, DAYS_CREDIT_ENDDATE REAL, DAYS_ENDDATE_FACT REAL, AMT_CREDIT_MAX_OVERDUE REAL, CNT_CREDIT_PROLONG INTEGER, AMT_CREDIT_SUM REAL, AMT_CREDIT_SUM_DEBT REAL, AMT_CREDIT_SUM_LIMIT REAL, AMT_CREDIT_SUM_OVERDUE REAL, CREDIT_TYPE TEXT, DAYS_CREDIT_UPDATE INTEGER, AMT_ANNUITY REAL);\n",
      "CREATE TABLE bureau_bal_sql (SK_ID_BUREAU INTEGER, MONTHS_BALANCE INTEGER, STATUS TEXT);\n",
      "CREATE TABLE card_bal_sql (SK_ID_PREV INTEGER, SK_ID_CURR INTEGER, MONTHS_BALANCE INTEGER, AMT_BALANCE REAL, AMT_CREDIT_LIMIT_ACTUAL INTEGER, AMT_DRAWINGS_ATM_CURRENT REAL, AMT_DRAWINGS_CURRENT REAL, AMT_DRAWINGS_OTHER_CURRENT REAL, AMT_DRAWINGS_POS_CURRENT REAL, AMT_INST_MIN_REGULARITY REAL, AMT_PAYMENT_CURRENT REAL, AMT_PAYMENT_TOTAL_CURRENT REAL, AMT_RECEIVABLE_PRINCIPAL REAL, AMT_RECIVABLE REAL, AMT_TOTAL_RECEIVABLE REAL, CNT_DRAWINGS_ATM_CURRENT REAL, CNT_DRAWINGS_CURRENT INTEGER, CNT_DRAWINGS_OTHER_CURRENT REAL, CNT_DRAWINGS_POS_CURRENT REAL, CNT_INSTALMENT_MATURE_CUM REAL, NAME_CONTRACT_STATUS TEXT, SK_DPD INTEGER, SK_DPD_DEF INTEGER);\n",
      "CREATE TABLE inst_pay_sql (SK_ID_PREV INTEGER, SK_ID_CURR INTEGER, NUM_INSTALMENT_VERSION REAL, NUM_INSTALMENT_NUMBER INTEGER, DAYS_INSTALMENT REAL, DAYS_ENTRY_PAYMENT REAL, AMT_INSTALMENT REAL, AMT_PAYMENT REAL);\n",
      "CREATE TABLE pos_bal_sql (SK_ID_PREV INTEGER, SK_ID_CURR INTEGER, MONTHS_BALANCE INTEGER, CNT_INSTALMENT REAL, CNT_INSTALMENT_FUTURE REAL, NAME_CONTRACT_STATUS TEXT, SK_DPD INTEGER, SK_DPD_DEF INTEGER);\n"
     ]
    },
    {
     "data": {
      "text/plain": [
       "'Table pos_bal_sql is created successfully!'"
      ]
     },
     "execution_count": 8,
     "metadata": {},
     "output_type": "execute_result"
    }
   ],
   "source": [
    "create_table(app, 'app_sql', cur)\n",
    "create_table(prev, 'prev_sql', cur)\n",
    "create_table(bureau, 'bureau_sql', cur)\n",
    "create_table(bureau_bal, 'bureau_bal_sql', cur)\n",
    "create_table(card_bal, 'card_bal_sql', cur)\n",
    "create_table(inst_pay, 'inst_pay_sql', cur)\n",
    "create_table(pos_bal, 'pos_bal_sql', cur)"
   ]
  },
  {
   "cell_type": "code",
   "execution_count": 9,
   "metadata": {},
   "outputs": [],
   "source": [
    "# load data into a sqlite table one by one\n",
    "insert_values(app, 'app_sql', '/Users/lisalb168/Desktop/Springboard materials/home-credit-default-risk/data/application_train', cur)\n",
    "insert_values(prev, 'prev_sql', '/Users/lisalb168/Desktop/Springboard materials/home-credit-default-risk/data/previous_application', cur)\n",
    "insert_values(bureau, 'bureau_sql', '/Users/lisalb168/Desktop/Springboard materials/home-credit-default-risk/data/bureau', cur)\n",
    "insert_values(bureau_bal, 'bureau_bal_sql', '/Users/lisalb168/Desktop/Springboard materials/home-credit-default-risk/data/bureau_balance', cur)\n",
    "insert_values(card_bal, 'card_bal_sql', '/Users/lisalb168/Desktop/Springboard materials/home-credit-default-risk/data/credit_card_balance', cur)\n",
    "insert_values(inst_pay, 'inst_pay_sql', '/Users/lisalb168/Desktop/Springboard materials/home-credit-default-risk/data/installments_payments', cur)\n",
    "insert_values(pos_bal, 'pos_bal_sql', '/Users/lisalb168/Desktop/Springboard materials/home-credit-default-risk/data/POS_CASH_balance', cur)"
   ]
  },
  {
   "cell_type": "markdown",
   "metadata": {},
   "source": [
    "## Save the files permanently to the SQLite database"
   ]
  },
  {
   "cell_type": "code",
   "execution_count": 10,
   "metadata": {},
   "outputs": [],
   "source": [
    "# save changes\n",
    "con.commit()"
   ]
  },
  {
   "cell_type": "code",
   "execution_count": 11,
   "metadata": {},
   "outputs": [],
   "source": [
    "# close connection\n",
    "con.close()"
   ]
  }
 ],
 "metadata": {
  "kernelspec": {
   "display_name": "Python 3",
   "language": "python",
   "name": "python3"
  },
  "language_info": {
   "codemirror_mode": {
    "name": "ipython",
    "version": 3
   },
   "file_extension": ".py",
   "mimetype": "text/x-python",
   "name": "python",
   "nbconvert_exporter": "python",
   "pygments_lexer": "ipython3",
   "version": "3.7.3"
  }
 },
 "nbformat": 4,
 "nbformat_minor": 2
}
