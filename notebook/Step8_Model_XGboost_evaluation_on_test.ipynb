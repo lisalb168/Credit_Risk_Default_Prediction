{
 "cells": [
  {
   "cell_type": "markdown",
   "metadata": {},
   "source": [
    "# Table of Contents\n",
    "\n",
    "* [Import train and test datasets](#Import-train-and-test-datasets)\n",
    "* [Model Evaluation](#Model-Evaluation)"
   ]
  },
  {
   "cell_type": "code",
   "execution_count": 2,
   "metadata": {},
   "outputs": [],
   "source": [
    "import sys\n",
    "\n",
    "if not sys.warnoptions:\n",
    "    import warnings\n",
    "    warnings.simplefilter(\"ignore\")\n",
    "    \n",
    "import warnings\n",
    "warnings.filterwarnings(\"ignore\")"
   ]
  },
  {
   "cell_type": "code",
   "execution_count": 3,
   "metadata": {},
   "outputs": [],
   "source": [
    "#import sys\n",
    "#!conda install --yes --prefix {sys.prefix} -c conda-forge lightgbm\n",
    "#!pip install xgboost\n",
    "import pandas as pd\n",
    "import numpy as np\n",
    "from numpy.random import seed\n",
    "import matplotlib.pyplot as plt\n",
    "import ast\n",
    "import re\n",
    "%matplotlib inline  \n",
    "import statistics\n",
    "from scipy import stats\n",
    "from scipy.stats import t\n",
    "from scipy.stats import norm\n",
    "import seaborn as sns\n",
    "import sklearn\n",
    "import sqlite3\n",
    "from sqlite3 import Error\n",
    "import csv\n",
    "import lightgbm\n",
    "\n",
    "from sklearn.ensemble import RandomForestClassifier\n",
    "from sklearn.linear_model import LogisticRegression\n",
    "from sklearn.neighbors import KNeighborsClassifier\n",
    "from sklearn import svm\n",
    "from sklearn.svm import LinearSVC\n",
    "from xgboost.sklearn import XGBClassifier\n",
    "from lightgbm import LGBMClassifier\n",
    "\n",
    "from sklearn.model_selection import cross_val_score\n",
    "from sklearn.model_selection import GridSearchCV\n",
    "from sklearn.model_selection import RandomizedSearchCV\n",
    "\n",
    "from sklearn.preprocessing import MinMaxScaler\n",
    "from sklearn.preprocessing import PowerTransformer\n",
    "\n",
    "from sklearn.metrics import classification_report\n",
    "from sklearn.metrics import roc_auc_score\n",
    "from sklearn.metrics import average_precision_score\n",
    "from sklearn.metrics import roc_curve, auc\n",
    "from sklearn.metrics import precision_recall_curve\n",
    "#from sklearn.metrics import plot_precision_recall_curve"
   ]
  },
  {
   "cell_type": "markdown",
   "metadata": {},
   "source": [
    "## Import train and test datasets"
   ]
  },
  {
   "cell_type": "code",
   "execution_count": 4,
   "metadata": {},
   "outputs": [],
   "source": [
    "X_train_new_x = pd.read_csv(\"X_train_new_x.csv\")\n",
    "y_train_new_0 = pd.read_csv(\"y_train_new.csv\", header=None)\n",
    "X_test = pd.read_csv(\"X_test.csv\")\n",
    "y_test_0 = pd.read_csv(\"y_test.csv\", header=None)\n",
    "y_train_new = y_train_new_0[0]\n",
    "y_test = y_test_0[0]"
   ]
  },
  {
   "cell_type": "code",
   "execution_count": 5,
   "metadata": {},
   "outputs": [
    {
     "name": "stdout",
     "output_type": "stream",
     "text": [
      "X train shape:  (40209, 350)\n",
      "y train shape:  (40209,)\n",
      "X test shape:  (61501, 350)\n",
      "y test shape:  (61501,)\n"
     ]
    }
   ],
   "source": [
    "print(\"X train shape: \", X_train_new_x.shape)\n",
    "print(\"y train shape: \", y_train_new.shape)\n",
    "print(\"X test shape: \", X_test.shape)\n",
    "print(\"y test shape: \", y_test.shape)"
   ]
  },
  {
   "cell_type": "markdown",
   "metadata": {},
   "source": [
    "## Model Evaluation"
   ]
  },
  {
   "cell_type": "markdown",
   "metadata": {},
   "source": [
    "Based on average cross validation accuracy of the 6 models, the best model selected is XGboost. Create performance reports on the test data, plot ROC curve and the top 10 features selected by XGboost."
   ]
  },
  {
   "cell_type": "code",
   "execution_count": 6,
   "metadata": {},
   "outputs": [
    {
     "data": {
      "text/plain": [
       "XGBClassifier(base_score=0.5, booster='gbtree', colsample_bylevel=1,\n",
       "       colsample_bynode=1, colsample_bytree=1, gamma=0.001,\n",
       "       learning_rate=0.1, max_delta_step=0, max_depth=5,\n",
       "       min_child_weight=1, missing=None, n_estimators=200, n_jobs=1,\n",
       "       nthread=None, objective='binary:logistic', random_state=123,\n",
       "       reg_alpha=0, reg_lambda=1, scale_pos_weight=1, seed=None,\n",
       "       silent=None, subsample=1, tree_method='auto', verbosity=1)"
      ]
     },
     "execution_count": 6,
     "metadata": {},
     "output_type": "execute_result"
    }
   ],
   "source": [
    "result = pd.read_csv('xgboost_cv_rlt.csv')\n",
    "best_n = ast.literal_eval(re.search('({.+})', result.best_params_.values[0]).group(0))['n_estimators']\n",
    "best_d = ast.literal_eval(re.search('({.+})', result.best_params_.values[0]).group(0))['max_depth']\n",
    "best_lr = ast.literal_eval(re.search('({.+})', result.best_params_.values[0]).group(0))['learning_rate']\n",
    "best_gamma = ast.literal_eval(re.search('({.+})', result.best_params_.values[0]).group(0))['gamma']\n",
    "\n",
    "clf = XGBClassifier(n_estimators = best_n, learning_rate = best_lr, max_depth = best_d, \n",
    "                            gamma = best_gamma, objective='binary:logistic', booster='gbtree', tree_method='auto', \n",
    "                            subsample=1, colsample_bytree=1, colsample_bylevel=1, colsample_bynode=1, \n",
    "                            reg_alpha=0, reg_lambda=1, scale_pos_weight=1, base_score=0.5, \n",
    "                            random_state = 123)\n",
    "clf.fit(X_train_new_x, y_train_new)"
   ]
  },
  {
   "cell_type": "code",
   "execution_count": 7,
   "metadata": {},
   "outputs": [
    {
     "name": "stdout",
     "output_type": "stream",
     "text": [
      "Confusion Matrix is: \n",
      " [[40386 16147]\n",
      " [ 1520  3448]]\n",
      "Classification Report: \n",
      "               precision    recall  f1-score   support\n",
      "\n",
      "           0       0.96      0.71      0.82     56533\n",
      "           1       0.18      0.69      0.28      4968\n",
      "\n",
      "   micro avg       0.71      0.71      0.71     61501\n",
      "   macro avg       0.57      0.70      0.55     61501\n",
      "weighted avg       0.90      0.71      0.78     61501\n",
      "\n",
      "accuracy: 0.712736\n",
      "AUC:  0.7738037030827447\n"
     ]
    }
   ],
   "source": [
    "preds = clf.predict(X_test)\n",
    "confusion_matrix = sklearn.metrics.confusion_matrix(y_test, preds, labels=None, sample_weight=None)\n",
    "report = classification_report(y_test, preds)\n",
    "probs = clf.predict_proba(X_test)\n",
    "auc = roc_auc_score(y_test, probs[:,1])\n",
    "accuracy = float(np.sum(preds==y_test))/y_test.shape[0] \n",
    "\n",
    "print(\"Confusion Matrix is: \\n\", confusion_matrix)\n",
    "print(\"Classification Report: \\n\", report)\n",
    "print(\"accuracy: %f\" % (accuracy))\n",
    "print(\"AUC: \", auc)"
   ]
  },
  {
   "cell_type": "code",
   "execution_count": 8,
   "metadata": {},
   "outputs": [
    {
     "data": {
      "image/png": "[encoded data removed]",
      "text/plain": [
       "<Figure size 432x288 with 1 Axes>"
      ]
     },
     "metadata": {
      "needs_background": "light"
     },
     "output_type": "display_data"
    }
   ],
   "source": [
    "# plot ROC curve\n",
    "y_score = probs[:,1]\n",
    "fpr, tpr, thresholds = roc_curve(y_test, y_score)\n",
    "\n",
    "plt.figure()\n",
    "lw = 2\n",
    "plt.plot(fpr, tpr, color='darkorange', lw=lw, label='ROC curve (area = %0.2f)' % auc)\n",
    "plt.plot([0, 1], [0, 1], color='navy', lw=lw, linestyle='--')\n",
    "plt.xlim([0.0, 1.0])\n",
    "plt.ylim([0.0, 1.05])\n",
    "plt.xlabel('False Positive Rate')\n",
    "plt.ylabel('True Positive Rate')\n",
    "plt.title('Receiver Operating Characteristic')\n",
    "plt.legend(loc=\"lower right\")\n",
    "plt.show()"
   ]
  },
  {
   "cell_type": "code",
   "execution_count": 9,
   "metadata": {},
   "outputs": [
    {
     "data": {
      "image/png": "[encoded data removed]",
      "text/plain": [
       "<Figure size 432x288 with 1 Axes>"
      ]
     },
     "metadata": {
      "needs_background": "light"
     },
     "output_type": "display_data"
    }
   ],
   "source": [
    "M = 10\n",
    "importances = clf.feature_importances_\n",
    "indices = np.argsort(importances)\n",
    "features = X_train_new_x.columns\n",
    "\n",
    "plt.title('Feature Importances')\n",
    "plt.barh(range(M), importances[indices][-M:], color='b', align='center')\n",
    "plt.yticks(range(M), [features[i] for i in indices[-M:]])\n",
    "plt.xlabel('Relative Importance')\n",
    "plt.show()"
   ]
  },
  {
   "cell_type": "code",
   "execution_count": null,
   "metadata": {},
   "outputs": [],
   "source": []
  }
 ],
 "metadata": {
  "kernelspec": {
   "display_name": "Python 3",
   "language": "python",
   "name": "python3"
  },
  "language_info": {
   "codemirror_mode": {
    "name": "ipython",
    "version": 3
   },
   "file_extension": ".py",
   "mimetype": "text/x-python",
   "name": "python",
   "nbconvert_exporter": "python",
   "pygments_lexer": "ipython3",
   "version": "3.7.3"
  }
 },
 "nbformat": 4,
 "nbformat_minor": 2
}
