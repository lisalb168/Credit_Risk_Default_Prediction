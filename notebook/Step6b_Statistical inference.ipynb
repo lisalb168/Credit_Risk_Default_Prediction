{
 "cells": [
  {
   "cell_type": "markdown",
   "metadata": {},
   "source": [
    "# Table of Contents\n",
    "\n",
    "* [Import data](#Import-data)\n",
    "* [Two sample t-test of equal mean of numeric variables on default and non-default groups](#Two-sample-t-test-of-equal-mean-of-numeric-variables-on-default-and-non-default-groups)\n",
    "* [Test of equal distributions of numeric variables on default and non-default groups](#Test-of-equal-distributions-of-numeric-variables-on-default-and-non-default-groups)\n",
    "* [Test if the default rates from 2 categories are statistically the same using z-test](#Test-if-the-default-rates-from-2-categories-are-statistically-the-same-using-z-test)\n",
    "* [Chi-squared test of independence between categorical variables and the target](#Chi-squared-test-of-independence-between-categorical-variables-and-the-target)"
   ]
  },
  {
   "cell_type": "markdown",
   "metadata": {},
   "source": [
    "## Import data"
   ]
  },
  {
   "cell_type": "code",
   "execution_count": 1,
   "metadata": {},
   "outputs": [],
   "source": [
    "import pandas as pd\n",
    "import numpy as np\n",
    "from numpy.random import seed\n",
    "import matplotlib.pyplot as plt\n",
    "%matplotlib inline  \n",
    "import statistics\n",
    "from scipy import stats\n",
    "from scipy.stats import t\n",
    "from scipy.stats import norm\n",
    "from statsmodels.stats.proportion import proportions_ztest\n",
    "import seaborn as sns\n",
    "import sklearn\n",
    "import sqlite3\n",
    "from sqlite3 import Error\n",
    "import csv"
   ]
  },
  {
   "cell_type": "code",
   "execution_count": 2,
   "metadata": {},
   "outputs": [
    {
     "name": "stdout",
     "output_type": "stream",
     "text": [
      "(307511, 332)\n"
     ]
    }
   ],
   "source": [
    "# use the data before one hot encoding of categorical variables to do hypothesis testing for categorical variables\n",
    "# open connection to sqlite database \n",
    "con = sqlite3.connect(r\"pythonsqlite.db\")\n",
    "cur = con.cursor()\n",
    "\n",
    "sql_sm = '''SELECT A.* FROM data_all AS A'''\n",
    "data_all = pd.read_sql(sql_sm, coerce_float=True, con=con)\n",
    "#display(data_all.head(3))\n",
    "print(data_all.shape)\n",
    "\n",
    "con.close()"
   ]
  },
  {
   "cell_type": "code",
   "execution_count": 3,
   "metadata": {},
   "outputs": [
    {
     "name": "stdout",
     "output_type": "stream",
     "text": [
      "(307502, 351)\n"
     ]
    }
   ],
   "source": [
    "# use the data after missing value imputations to do hypothesis testing for numeric variables\n",
    "# open connection to sqlite database \n",
    "con = sqlite3.connect(r\"pythonsqlite.db\")\n",
    "cur = con.cursor()\n",
    "\n",
    "sql_sm = '''SELECT A.* FROM data_all_3 AS A'''\n",
    "data_all_3 = pd.read_sql(sql_sm, coerce_float=True, con=con)\n",
    "#display(data_all_3.head(3))\n",
    "print(data_all_3.shape)\n",
    "\n",
    "con.close()"
   ]
  },
  {
   "cell_type": "markdown",
   "metadata": {},
   "source": [
    "## Two sample t-test of equal mean of numeric variables on default and non-default groups"
   ]
  },
  {
   "cell_type": "markdown",
   "metadata": {},
   "source": [
    "The null hypothesis is that the mean of the variable are the same in default and non-default groups. The alternative hypothesis is that the mean are different.\n",
    "\n",
    "The 2 sample t test assumes the distribution of the 2 samples are approximately normal, whereas in our cases, many variables are highly skewed. We first do the test using original scales of the variables, next we chop the middle part of some of the variables where the distribution is less skewed and pass the new ranges to the test again, to check if the results are different.\n",
    "\n",
    "For most of the variables, their mean values are statistically different in the default and non-default groups. Among the variables tested, only AMT_ANNUITY and SUM_AMT_CREDIT_MAX_OVERDUE have insignificant p-values, meaning there is no evidence to reject the null hypothesis that these 2 variables have the same mean values on default and non-default groups."
   ]
  },
  {
   "cell_type": "code",
   "execution_count": 4,
   "metadata": {},
   "outputs": [],
   "source": [
    "# use scipy.stat to do 2 sample t test\n",
    "def ttest(df, col):\n",
    "    default_N = df[col][df['TARGET']== 0]\n",
    "    default_Y = df[col][df['TARGET']== 1]\n",
    "    t_results = stats.ttest_ind(default_N, default_Y, equal_var = False)\n",
    "    return t_results"
   ]
  },
  {
   "cell_type": "code",
   "execution_count": 5,
   "metadata": {},
   "outputs": [
    {
     "name": "stdout",
     "output_type": "stream",
     "text": [
      "t-test p-value for variable AMT_INCOME_TOTAL is 0.0000.\n",
      "t-test p-value for variable REGION_POPULATION_RELATIVE is 0.0000.\n",
      "t-test p-value for variable YEARS_BEGINEXPLUATATION_AVG is 0.0167.\n",
      "t-test p-value for variable MIN_DAYS_CREDIT_UPDATE is 0.0000.\n",
      "t-test p-value for variable MAX_DAYS_CREDIT_UPDATE is 0.0000.\n",
      "t-test p-value for variable MAX_DAYS_CREDIT_ENDDATE is 0.0000.\n",
      "t-test p-value for variable MIN_DAYS_CREDIT is 0.0000.\n",
      "t-test p-value for variable EXT_SOURCE_1 is 0.0000.\n",
      "t-test p-value for variable EXT_SOURCE_2 is 0.0000.\n",
      "t-test p-value for variable EXT_SOURCE_3 is 0.0000.\n",
      "t-test p-value for variable MAX_DAYS_ENDDATE_FACT is 0.0000.\n",
      "t-test p-value for variable DAYS_BIRTH is 0.0000.\n",
      "t-test p-value for variable DAYS_REGISTRATION is 0.0000.\n",
      "t-test p-value for variable DAYS_LAST_PHONE_CHANGE is 0.0000.\n",
      "t-test p-value for variable DAYS_ID_PUBLISH is 0.0000.\n",
      "t-test p-value for variable AMT_CREDIT is 0.0000.\n",
      "t-test p-value for variable AMT_GOODS_PRICE is 0.0000.\n",
      "t-test p-value for variable AMT_ANNUITY is 0.6374.\n",
      "t-test p-value for variable DAYS_EMPLOYED is 0.0000.\n",
      "t-test p-value for variable SUM_AMT_CREDIT_MAX_OVERDUE is 0.0727.\n",
      "t-test p-value for variable SUM_AMT_CREDIT_SUM_OVERDUE is 0.0000.\n",
      "t-test p-value for variable SUM_AMT_CREDIT_SUM is 0.0000.\n"
     ]
    }
   ],
   "source": [
    "# list of numeric variables to do t-test on \n",
    "tlist = ['AMT_INCOME_TOTAL','REGION_POPULATION_RELATIVE','YEARS_BEGINEXPLUATATION_AVG',\n",
    "         'MIN_DAYS_CREDIT_UPDATE','MAX_DAYS_CREDIT_UPDATE',\n",
    "         'MAX_DAYS_CREDIT_ENDDATE','MIN_DAYS_CREDIT','EXT_SOURCE_1','EXT_SOURCE_2','EXT_SOURCE_3',\n",
    "         'MAX_DAYS_ENDDATE_FACT','DAYS_BIRTH','DAYS_REGISTRATION','DAYS_LAST_PHONE_CHANGE',\n",
    "         'DAYS_ID_PUBLISH','AMT_CREDIT','AMT_GOODS_PRICE','AMT_ANNUITY','DAYS_EMPLOYED','SUM_AMT_CREDIT_MAX_OVERDUE',\n",
    "         'SUM_AMT_CREDIT_SUM_OVERDUE','SUM_AMT_CREDIT_SUM']\n",
    "for i in tlist:\n",
    "    t = ttest(data_all_3, i)\n",
    "    #print(\"t-test statistics for variable {} is {:.4f}.\".format(i, t.statistic))\n",
    "    print(\"t-test p-value for variable {} is {:.4f}.\".format(i, t.pvalue))"
   ]
  },
  {
   "cell_type": "markdown",
   "metadata": {},
   "source": [
    "Chop the variables to a range that the variables are less skewed, then do 2 sample t test again. We see some variables' p-values changed from significant to insignificant as we only test on the middle part of the distribution. It seems the differences are mainly caused by the tails. "
   ]
  },
  {
   "cell_type": "code",
   "execution_count": 6,
   "metadata": {},
   "outputs": [],
   "source": [
    "# use scipy.stat to do 2 sample t test\n",
    "def ttest2(df, col, lower, upper):   \n",
    "    filter_N = (df.TARGET == 0) & (df[col] <= upper) & (df[col] >= lower)\n",
    "    default_N = df.loc[filter_N, col]\n",
    "    filter_Y = (df.TARGET == 1) & (df[col] <= upper) & (df[col] >= lower)\n",
    "    default_Y = df.loc[filter_Y, col]\n",
    "    t_results = stats.ttest_ind(default_N, default_Y, equal_var = False)\n",
    "    return t_results"
   ]
  },
  {
   "cell_type": "code",
   "execution_count": 7,
   "metadata": {},
   "outputs": [
    {
     "name": "stdout",
     "output_type": "stream",
     "text": [
      "t-test p-value for variable AMT_INCOME_TOTAL is 0.0000.\n",
      "t-test p-value for variable REGION_POPULATION_RELATIVE is 0.0210.\n",
      "t-test p-value for variable YEARS_BEGINEXPLUATATION_AVG is 0.0000.\n",
      "t-test p-value for variable MIN_DAYS_CREDIT_UPDATE is 0.0000.\n",
      "t-test p-value for variable MAX_DAYS_CREDIT_UPDATE is 0.5390.\n",
      "t-test p-value for variable MAX_DAYS_CREDIT_ENDDATE is 0.4993.\n",
      "t-test p-value for variable MIN_DAYS_CREDIT is 0.0000.\n",
      "t-test p-value for variable EXT_SOURCE_1 is 0.0000.\n",
      "t-test p-value for variable EXT_SOURCE_2 is 0.0000.\n",
      "t-test p-value for variable EXT_SOURCE_3 is 0.0000.\n",
      "t-test p-value for variable MAX_DAYS_ENDDATE_FACT is 0.0638.\n",
      "t-test p-value for variable DAYS_BIRTH is 0.0000.\n",
      "t-test p-value for variable DAYS_REGISTRATION is 0.6056.\n",
      "t-test p-value for variable DAYS_LAST_PHONE_CHANGE is 0.6424.\n",
      "t-test p-value for variable DAYS_ID_PUBLISH is 0.0000.\n",
      "t-test p-value for variable AMT_CREDIT is 0.0000.\n",
      "t-test p-value for variable AMT_GOODS_PRICE is 0.0000.\n",
      "t-test p-value for variable AMT_ANNUITY is 0.6077.\n",
      "t-test p-value for variable DAYS_EMPLOYED is 0.0000.\n",
      "t-test p-value for variable SUM_AMT_CREDIT_MAX_OVERDUE is 0.0016.\n",
      "t-test p-value for variable SUM_AMT_CREDIT_SUM_OVERDUE is 0.8851.\n",
      "t-test p-value for variable SUM_AMT_CREDIT_SUM is 0.0000.\n"
     ]
    }
   ],
   "source": [
    "# list of numeric variables to do t-test on \n",
    "tlist2 = ['AMT_INCOME_TOTAL','REGION_POPULATION_RELATIVE','YEARS_BEGINEXPLUATATION_AVG',\n",
    "         'MIN_DAYS_CREDIT_UPDATE','MAX_DAYS_CREDIT_UPDATE',\n",
    "         'MAX_DAYS_CREDIT_ENDDATE','MIN_DAYS_CREDIT','EXT_SOURCE_1','EXT_SOURCE_2','EXT_SOURCE_3',\n",
    "         'MAX_DAYS_ENDDATE_FACT','DAYS_BIRTH','DAYS_REGISTRATION','DAYS_LAST_PHONE_CHANGE',\n",
    "         'DAYS_ID_PUBLISH','AMT_CREDIT','AMT_GOODS_PRICE','AMT_ANNUITY','DAYS_EMPLOYED','SUM_AMT_CREDIT_MAX_OVERDUE',\n",
    "         'SUM_AMT_CREDIT_SUM_OVERDUE','SUM_AMT_CREDIT_SUM']\n",
    "\n",
    "rangelist = [(10,14),(0,0.03),(0.96,1),\n",
    "             (-3000,-1000),(-2000,-1000),\n",
    "             (1000,3650),(-3000,-1000),(0,1),(0,1),(0,1),\n",
    "             (-730,-365),(-25550,-7300),(-5000,-1000),(-730,-365),\n",
    "             (-7300,-3650),(11,15),(12,14),(8,12),(-2700,-1000),(0,250),\n",
    "             (1000,5000),(20000,80000)]\n",
    "\n",
    "a = list(zip(tlist2, rangelist))\n",
    "\n",
    "for i in a:\n",
    "    t = ttest2(data_all_3, i[0], i[1][0], i[1][1])\n",
    "    #print(\"t-test statistics for variable {} is {:.4f}.\".format(i[0], t.statistic))\n",
    "    print(\"t-test p-value for variable {} is {:.4f}.\".format(i[0], t.pvalue))"
   ]
  },
  {
   "cell_type": "markdown",
   "metadata": {},
   "source": [
    "## Test of equal distributions of numeric variables on default and non-default groups"
   ]
  },
  {
   "cell_type": "markdown",
   "metadata": {},
   "source": [
    "Use 2-sample Kolmogorov-Smirnov (KS) test to check if the distributions of one numeric variable are the same on default and non-default groups. Under the null hypothesis the two distributions are identical. The alternative hypothesis is that their distributions are different. The KS test is only valid for continuous distributions.\n",
    "\n",
    "Compute the Kolmogorov-Smirnov statistic on 2 samples.\n",
    "\n",
    "Among the numeric features tested, none of them have the same distribution in the default and non-default groups. This is expected as testing the distributions are similar or the same is more restrictive than having the same mean values. Intuitively at least their means should be pretty close, and we already saw in the previous t-test that only 2 variables have similar mean values on the default and non-default groups. "
   ]
  },
  {
   "cell_type": "code",
   "execution_count": 8,
   "metadata": {},
   "outputs": [],
   "source": [
    "# use scipy.stat to do 2 sample KS test\n",
    "def kstest(df, col):\n",
    "    default_N = df[col][df['TARGET']== 0]\n",
    "    default_Y = df[col][df['TARGET']== 1]\n",
    "    ks_results = stats.ks_2samp(default_N, default_Y)\n",
    "    return ks_results"
   ]
  },
  {
   "cell_type": "code",
   "execution_count": 9,
   "metadata": {},
   "outputs": [
    {
     "name": "stdout",
     "output_type": "stream",
     "text": [
      "ks-test pvalue for variable AMT_INCOME_TOTAL is 0.0000.\n",
      "ks-test pvalue for variable YEARS_BEGINEXPLUATATION_AVG is 0.0000.\n",
      "ks-test pvalue for variable MIN_DAYS_CREDIT_UPDATE is 0.0000.\n",
      "ks-test pvalue for variable MIN_DAYS_CREDIT_UPDATE is 0.0000.\n",
      "ks-test pvalue for variable MAX_DAYS_CREDIT_ENDDATE is 0.0000.\n",
      "ks-test pvalue for variable MIN_DAYS_CREDIT is 0.0000.\n",
      "ks-test pvalue for variable EXT_SOURCE_1 is 0.0000.\n",
      "ks-test pvalue for variable EXT_SOURCE_2 is 0.0000.\n",
      "ks-test pvalue for variable EXT_SOURCE_3 is 0.0000.\n",
      "ks-test pvalue for variable MAX_DAYS_ENDDATE_FACT is 0.0000.\n",
      "ks-test pvalue for variable DAYS_BIRTH is 0.0000.\n",
      "ks-test pvalue for variable DAYS_REGISTRATION is 0.0000.\n",
      "ks-test pvalue for variable DAYS_LAST_PHONE_CHANGE is 0.0000.\n",
      "ks-test pvalue for variable DAYS_ID_PUBLISH is 0.0000.\n",
      "ks-test pvalue for variable AMT_CREDIT is 0.0000.\n",
      "ks-test pvalue for variable AMT_GOODS_PRICE is 0.0000.\n",
      "ks-test pvalue for variable AMT_ANNUITY is 0.0000.\n",
      "ks-test pvalue for variable DAYS_EMPLOYED is 0.0000.\n",
      "ks-test pvalue for variable SUM_AMT_CREDIT_MAX_OVERDUE is 0.0000.\n",
      "ks-test pvalue for variable SUM_AMT_CREDIT_SUM_OVERDUE is 0.0031.\n",
      "ks-test pvalue for variable SUM_AMT_CREDIT_SUM is 0.0000.\n"
     ]
    }
   ],
   "source": [
    "# list of numeric variables to do ks-test on \n",
    "kslist = ['AMT_INCOME_TOTAL','YEARS_BEGINEXPLUATATION_AVG','MIN_DAYS_CREDIT_UPDATE','MIN_DAYS_CREDIT_UPDATE',\n",
    "         'MAX_DAYS_CREDIT_ENDDATE','MIN_DAYS_CREDIT','EXT_SOURCE_1','EXT_SOURCE_2','EXT_SOURCE_3',\n",
    "         'MAX_DAYS_ENDDATE_FACT','DAYS_BIRTH','DAYS_REGISTRATION','DAYS_LAST_PHONE_CHANGE',\n",
    "         'DAYS_ID_PUBLISH','AMT_CREDIT','AMT_GOODS_PRICE','AMT_ANNUITY','DAYS_EMPLOYED','SUM_AMT_CREDIT_MAX_OVERDUE',\n",
    "         'SUM_AMT_CREDIT_SUM_OVERDUE','SUM_AMT_CREDIT_SUM']\n",
    "for i in kslist:\n",
    "    ks = kstest(data_all_3, i)\n",
    "    #print(\"ks-test statistics for variable {} is {:.4f}.\".format(i, ks.statistic))\n",
    "    print(\"ks-test pvalue for variable {} is {:.4f}.\".format(i, ks.pvalue))"
   ]
  },
  {
   "cell_type": "markdown",
   "metadata": {},
   "source": [
    "## Test if the default rates from 2 categories are statistically the same using z-test"
   ]
  },
  {
   "cell_type": "markdown",
   "metadata": {},
   "source": [
    "This is testing the proportion of default in 2 categories are the same. Pick a few categorical variables with 2 levels, and compare the default rate in each level. Test results show a few variables having p-values > 0.05, indicating the default proportions are not significantly different in its 2 categories. Such variables may not have a good separating power of default loans from non-default loans."
   ]
  },
  {
   "cell_type": "code",
   "execution_count": 10,
   "metadata": {},
   "outputs": [],
   "source": [
    "def ztest(df, col):\n",
    "    tmp = pd.crosstab(df[col], df['TARGET']).reset_index()\n",
    "    tmp.columns = [col,'Default_No','Default_Yes']\n",
    "    c1 = tmp.iloc[0,2]\n",
    "    c2 = tmp.iloc[1,2]\n",
    "    n1 = tmp.iloc[0,1] + tmp.iloc[0,2]\n",
    "    n2 = tmp.iloc[1,1] + tmp.iloc[1,2]\n",
    "    count = np.array([c1, c2])\n",
    "    nobs = np.array([n1, n2])\n",
    "    stat, pval = proportions_ztest(count, nobs)\n",
    "    return [stat, pval]"
   ]
  },
  {
   "cell_type": "code",
   "execution_count": 11,
   "metadata": {},
   "outputs": [
    {
     "name": "stdout",
     "output_type": "stream",
     "text": [
      "z-test pvalue for variable NAME_CONTRACT_TYPE is 0.0000.\n",
      "z-test pvalue for variable FLAG_OWN_CAR is 0.0000.\n",
      "z-test pvalue for variable FLAG_OWN_REALTY is 0.0007.\n",
      "z-test pvalue for variable FLAG_DOCUMENT_2 is 0.0027.\n",
      "z-test pvalue for variable FLAG_DOCUMENT_3 is 0.0000.\n",
      "z-test pvalue for variable FLAG_DOCUMENT_5 is 0.8610.\n",
      "z-test pvalue for variable FLAG_DOCUMENT_6 is 0.0000.\n",
      "z-test pvalue for variable FLAG_DOCUMENT_7 is 0.3994.\n",
      "z-test pvalue for variable FLAG_DOCUMENT_8 is 0.0000.\n",
      "z-test pvalue for variable FLAG_DOCUMENT_9 is 0.0158.\n",
      "z-test pvalue for variable FLAG_DOCUMENT_11 is 0.0190.\n",
      "z-test pvalue for variable FLAG_DOCUMENT_13 is 0.0000.\n",
      "z-test pvalue for variable FLAG_DOCUMENT_14 is 0.0000.\n",
      "z-test pvalue for variable FLAG_DOCUMENT_15 is 0.0003.\n",
      "z-test pvalue for variable FLAG_DOCUMENT_16 is 0.0000.\n",
      "z-test pvalue for variable FLAG_DOCUMENT_17 is 0.0611.\n",
      "z-test pvalue for variable FLAG_DOCUMENT_18 is 0.0000.\n",
      "z-test pvalue for variable FLAG_DOCUMENT_19 is 0.4516.\n",
      "z-test pvalue for variable FLAG_DOCUMENT_20 is 0.9049.\n",
      "z-test pvalue for variable FLAG_DOCUMENT_21 is 0.0397.\n"
     ]
    }
   ],
   "source": [
    "# list of 2-category categorical variables to do z-test on \n",
    "zlist = ['NAME_CONTRACT_TYPE','FLAG_OWN_CAR','FLAG_OWN_REALTY','FLAG_DOCUMENT_2','FLAG_DOCUMENT_3',\n",
    "         'FLAG_DOCUMENT_5','FLAG_DOCUMENT_6','FLAG_DOCUMENT_7','FLAG_DOCUMENT_8',\n",
    "         'FLAG_DOCUMENT_9','FLAG_DOCUMENT_11','FLAG_DOCUMENT_13','FLAG_DOCUMENT_14',\n",
    "         'FLAG_DOCUMENT_15','FLAG_DOCUMENT_16','FLAG_DOCUMENT_17','FLAG_DOCUMENT_18','FLAG_DOCUMENT_19',\n",
    "         'FLAG_DOCUMENT_20','FLAG_DOCUMENT_21']\n",
    "for i in zlist:\n",
    "    z = ztest(data_all, i)\n",
    "    #print(\"z-test statistics for variable {} is {:.4f}.\".format(i, z[0]))\n",
    "    print(\"z-test pvalue for variable {} is {:.4f}.\".format(i, z[1]))"
   ]
  },
  {
   "cell_type": "markdown",
   "metadata": {},
   "source": [
    "## Chi-squared test of independence between categorical variables and the target"
   ]
  },
  {
   "cell_type": "markdown",
   "metadata": {},
   "source": [
    "This is testing the distribution of counts in each category of a categorical variable is independent of the target group, whether default or non-default. Rejecting the null hypothesis would mean the categorical variable differs in the 2 target groups, in which case this categorical variable may be a good feature to separate out default vs. non-default loans; otherwise we would have no evidence to conclude the distribution of counts are different in the 2 target groups.\n",
    "\n",
    "Choose a few categorical variables where there are not too many levels, and need to make sure there are > 0 counts in every category in both default and non-default loans. \n",
    "\n",
    "It turns out that the p-values obtained from this Chi-squared test are exactly the same as the p-values coming out of the z-test above. "
   ]
  },
  {
   "cell_type": "code",
   "execution_count": 12,
   "metadata": {},
   "outputs": [],
   "source": [
    "# if use lambda_=\"log-likelihood\" in the function, then Perform \n",
    "# the test using log-likelihood ratio (i.e. the “G-test”) instead of Pearson’s chi-squared statistic.\n",
    "def chisqtest(df, col):\n",
    "    list1 = df[col][df['TARGET']==0].value_counts().sort_index()\n",
    "    list2 = df[col][df['TARGET']==1].value_counts().sort_index()\n",
    "    obs = np.array([list1, list2])\n",
    "    chi2, p, dof, expected = stats.chi2_contingency(obs, correction=False)\n",
    "    return [chi2, p, dof, expected]"
   ]
  },
  {
   "cell_type": "code",
   "execution_count": 13,
   "metadata": {},
   "outputs": [
    {
     "name": "stdout",
     "output_type": "stream",
     "text": [
      "chisq-test pvalue for variable NAME_CONTRACT_TYPE is 0.0000.\n",
      "chisq-test pvalue for variable FLAG_OWN_CAR is 0.0000.\n",
      "chisq-test pvalue for variable FLAG_OWN_REALTY is 0.0007.\n",
      "chisq-test pvalue for variable FLAG_DOCUMENT_2 is 0.0027.\n",
      "chisq-test pvalue for variable FLAG_DOCUMENT_3 is 0.0000.\n",
      "chisq-test pvalue for variable FLAG_DOCUMENT_5 is 0.8610.\n",
      "chisq-test pvalue for variable FLAG_DOCUMENT_6 is 0.0000.\n",
      "chisq-test pvalue for variable FLAG_DOCUMENT_7 is 0.3994.\n",
      "chisq-test pvalue for variable FLAG_DOCUMENT_19 is 0.4516.\n",
      "chisq-test pvalue for variable FLAG_DOCUMENT_20 is 0.9049.\n",
      "chisq-test pvalue for variable FLAG_DOCUMENT_21 is 0.0397.\n",
      "chisq-test pvalue for variable WEEKDAY_APPR_PROCESS_START is 0.0174.\n"
     ]
    }
   ],
   "source": [
    "chisqlist = ['NAME_CONTRACT_TYPE','FLAG_OWN_CAR','FLAG_OWN_REALTY','FLAG_DOCUMENT_2','FLAG_DOCUMENT_3',\n",
    "             'FLAG_DOCUMENT_5','FLAG_DOCUMENT_6','FLAG_DOCUMENT_7','FLAG_DOCUMENT_19',\n",
    "             'FLAG_DOCUMENT_20','FLAG_DOCUMENT_21','WEEKDAY_APPR_PROCESS_START']\n",
    "for i in chisqlist:\n",
    "    chi = chisqtest(data_all, i)\n",
    "    #print(\"chisq-test statistics for variable {} is {:.4f}.\".format(i, chi[0]))\n",
    "    print(\"chisq-test pvalue for variable {} is {:.4f}.\".format(i, chi[1]))"
   ]
  }
 ],
 "metadata": {
  "kernelspec": {
   "display_name": "Python 3",
   "language": "python",
   "name": "python3"
  },
  "language_info": {
   "codemirror_mode": {
    "name": "ipython",
    "version": 3
   },
   "file_extension": ".py",
   "mimetype": "text/x-python",
   "name": "python",
   "nbconvert_exporter": "python",
   "pygments_lexer": "ipython3",
   "version": "3.7.3"
  }
 },
 "nbformat": 4,
 "nbformat_minor": 2
}
